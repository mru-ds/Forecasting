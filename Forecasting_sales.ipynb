{
 "cells": [
  {
   "cell_type": "code",
   "execution_count": 1,
   "id": "e2be8d61",
   "metadata": {},
   "outputs": [],
   "source": [
    "import pandas as pd\n",
    "import numpy as np\n",
    "import seaborn as sns\n",
    "import matplotlib.pyplot as plt\n",
    "%matplotlib inline\n",
    "\n",
    "\n",
    "import re\n",
    "import operator\n",
    "import itertools\n",
    "\n",
    "\n",
    "# ignore the warnings\n",
    "import warnings\n",
    "warnings.filterwarnings('ignore')\n",
    "\n",
    "import statsmodels.api as sm\n",
    "from statsmodels.tsa.arima_model import ARIMA\n",
    "from pylab import rcParams\n",
    "from statsmodels.tsa.stattools import adfuller\n",
    "from statsmodels.graphics.tsaplots import plot_acf, plot_pacf\n",
    "\n",
    "\n"
   ]
  },
  {
   "cell_type": "code",
   "execution_count": 2,
   "id": "3fed0ab4",
   "metadata": {},
   "outputs": [],
   "source": [
    "import xgboost as xgb\n",
    "from sklearn.metrics import mean_squared_error"
   ]
  },
  {
   "cell_type": "raw",
   "id": "d8425f51",
   "metadata": {},
   "source": [
    "Ask: Predict the next 12 months of overall sales using time-series analysis. Address forecast error, fit, and accuracy of the model in your write-up.\n",
    "-->Create dashboard/visualizations of key metrics such as sales revenue, sales units, projections, average selling price, conversion rate etc.  Bonus point: if you can add a metric filter to the dashboard.\n"
   ]
  },
  {
   "cell_type": "code",
   "execution_count": null,
   "id": "0edb9546",
   "metadata": {},
   "outputs": [],
   "source": []
  },
  {
   "cell_type": "code",
   "execution_count": 3,
   "id": "9bb6187b",
   "metadata": {},
   "outputs": [],
   "source": [
    "data=pd.read_excel('Interview_Sample_Sales_Data_New.xlsx')"
   ]
  },
  {
   "cell_type": "code",
   "execution_count": 4,
   "id": "3c442b0c",
   "metadata": {},
   "outputs": [
    {
     "data": {
      "text/html": [
       "<div>\n",
       "<style scoped>\n",
       "    .dataframe tbody tr th:only-of-type {\n",
       "        vertical-align: middle;\n",
       "    }\n",
       "\n",
       "    .dataframe tbody tr th {\n",
       "        vertical-align: top;\n",
       "    }\n",
       "\n",
       "    .dataframe thead th {\n",
       "        text-align: right;\n",
       "    }\n",
       "</style>\n",
       "<table border=\"1\" class=\"dataframe\">\n",
       "  <thead>\n",
       "    <tr style=\"text-align: right;\">\n",
       "      <th></th>\n",
       "      <th>Year</th>\n",
       "      <th>Month</th>\n",
       "      <th>Subcategory</th>\n",
       "      <th>Category</th>\n",
       "      <th>Model / Style Number</th>\n",
       "      <th>Ordered Revenue</th>\n",
       "      <th>Ordered Revenue - % of Total</th>\n",
       "      <th>Ordered Revenue - Prior Period</th>\n",
       "      <th>Ordered Units</th>\n",
       "      <th>Subcategory (Sales Rank)</th>\n",
       "      <th>Glance Views</th>\n",
       "      <th>Change in Glance View - MOM</th>\n",
       "      <th>Change in GV YOY</th>\n",
       "      <th>Conversion Rate</th>\n",
       "      <th>LFO (Price)</th>\n",
       "    </tr>\n",
       "  </thead>\n",
       "  <tbody>\n",
       "    <tr>\n",
       "      <th>0</th>\n",
       "      <td>2021</td>\n",
       "      <td>1</td>\n",
       "      <td>Subcategory 070</td>\n",
       "      <td>Category 24</td>\n",
       "      <td>BE112230056</td>\n",
       "      <td>321270.0840</td>\n",
       "      <td>0.045487</td>\n",
       "      <td>-0.052463</td>\n",
       "      <td>80022</td>\n",
       "      <td>2.0</td>\n",
       "      <td>334355.0</td>\n",
       "      <td>-0.183714</td>\n",
       "      <td>1.548302</td>\n",
       "      <td>0.100755</td>\n",
       "      <td>0.000009</td>\n",
       "    </tr>\n",
       "    <tr>\n",
       "      <th>1</th>\n",
       "      <td>2021</td>\n",
       "      <td>1</td>\n",
       "      <td>Subcategory 014</td>\n",
       "      <td>Category 05</td>\n",
       "      <td>WIZ0003ttBK</td>\n",
       "      <td>328651.1945</td>\n",
       "      <td>0.046532</td>\n",
       "      <td>0.109727</td>\n",
       "      <td>4123</td>\n",
       "      <td>2.0</td>\n",
       "      <td>89784.0</td>\n",
       "      <td>-0.132924</td>\n",
       "      <td>—</td>\n",
       "      <td>0.029125</td>\n",
       "      <td>0.000000</td>\n",
       "    </tr>\n",
       "    <tr>\n",
       "      <th>2</th>\n",
       "      <td>2021</td>\n",
       "      <td>1</td>\n",
       "      <td>Subcategory 070</td>\n",
       "      <td>Category 24</td>\n",
       "      <td>BP112230056</td>\n",
       "      <td>329032.4535</td>\n",
       "      <td>0.046586</td>\n",
       "      <td>0.033723</td>\n",
       "      <td>1896</td>\n",
       "      <td>5.0</td>\n",
       "      <td>103721.0</td>\n",
       "      <td>0.175122</td>\n",
       "      <td>0.725922</td>\n",
       "      <td>0.056102</td>\n",
       "      <td>0.000060</td>\n",
       "    </tr>\n",
       "  </tbody>\n",
       "</table>\n",
       "</div>"
      ],
      "text/plain": [
       "   Year  Month      Subcategory     Category Model / Style Number  \\\n",
       "0  2021      1  Subcategory 070  Category 24          BE112230056   \n",
       "1  2021      1  Subcategory 014  Category 05          WIZ0003ttBK   \n",
       "2  2021      1  Subcategory 070  Category 24          BP112230056   \n",
       "\n",
       "   Ordered Revenue  Ordered Revenue - % of Total  \\\n",
       "0      321270.0840                      0.045487   \n",
       "1      328651.1945                      0.046532   \n",
       "2      329032.4535                      0.046586   \n",
       "\n",
       "   Ordered Revenue - Prior Period  Ordered Units  Subcategory (Sales Rank)  \\\n",
       "0                       -0.052463          80022                       2.0   \n",
       "1                        0.109727           4123                       2.0   \n",
       "2                        0.033723           1896                       5.0   \n",
       "\n",
       "   Glance Views Change in Glance View - MOM Change in GV YOY  Conversion Rate  \\\n",
       "0      334355.0                   -0.183714         1.548302         0.100755   \n",
       "1       89784.0                   -0.132924                —         0.029125   \n",
       "2      103721.0                    0.175122         0.725922         0.056102   \n",
       "\n",
       "   LFO (Price)  \n",
       "0     0.000009  \n",
       "1     0.000000  \n",
       "2     0.000060  "
      ]
     },
     "execution_count": 4,
     "metadata": {},
     "output_type": "execute_result"
    }
   ],
   "source": [
    "data.head(3)"
   ]
  },
  {
   "cell_type": "code",
   "execution_count": 5,
   "id": "9aa25dc0",
   "metadata": {},
   "outputs": [
    {
     "data": {
      "text/plain": [
       "(16136, 15)"
      ]
     },
     "execution_count": 5,
     "metadata": {},
     "output_type": "execute_result"
    }
   ],
   "source": [
    "data.shape"
   ]
  },
  {
   "cell_type": "code",
   "execution_count": 6,
   "id": "2a044bfe",
   "metadata": {},
   "outputs": [
    {
     "name": "stdout",
     "output_type": "stream",
     "text": [
      "<class 'pandas.core.frame.DataFrame'>\n",
      "RangeIndex: 16136 entries, 0 to 16135\n",
      "Data columns (total 15 columns):\n",
      " #   Column                          Non-Null Count  Dtype  \n",
      "---  ------                          --------------  -----  \n",
      " 0   Year                            16136 non-null  int64  \n",
      " 1   Month                           16136 non-null  int64  \n",
      " 2   Subcategory                     16136 non-null  object \n",
      " 3   Category                        16136 non-null  object \n",
      " 4   Model / Style Number            16136 non-null  object \n",
      " 5   Ordered Revenue                 16136 non-null  float64\n",
      " 6   Ordered Revenue - % of Total    16136 non-null  float64\n",
      " 7   Ordered Revenue - Prior Period  16136 non-null  float64\n",
      " 8   Ordered Units                   16136 non-null  int64  \n",
      " 9   Subcategory (Sales Rank)        15127 non-null  float64\n",
      " 10  Glance Views                    16029 non-null  float64\n",
      " 11  Change in Glance View - MOM     16029 non-null  object \n",
      " 12  Change in GV YOY                16029 non-null  object \n",
      " 13  Conversion Rate                 11027 non-null  float64\n",
      " 14  LFO (Price)                     10732 non-null  float64\n",
      "dtypes: float64(7), int64(3), object(5)\n",
      "memory usage: 1.8+ MB\n"
     ]
    }
   ],
   "source": [
    "data.info()"
   ]
  },
  {
   "cell_type": "code",
   "execution_count": 7,
   "id": "c9638cca",
   "metadata": {},
   "outputs": [],
   "source": [
    "#data.describe().T"
   ]
  },
  {
   "cell_type": "code",
   "execution_count": 8,
   "id": "7aa07841",
   "metadata": {},
   "outputs": [
    {
     "name": "stdout",
     "output_type": "stream",
     "text": [
      "Duplicate counnt 8\n"
     ]
    },
    {
     "data": {
      "text/html": [
       "<div>\n",
       "<style scoped>\n",
       "    .dataframe tbody tr th:only-of-type {\n",
       "        vertical-align: middle;\n",
       "    }\n",
       "\n",
       "    .dataframe tbody tr th {\n",
       "        vertical-align: top;\n",
       "    }\n",
       "\n",
       "    .dataframe thead th {\n",
       "        text-align: right;\n",
       "    }\n",
       "</style>\n",
       "<table border=\"1\" class=\"dataframe\">\n",
       "  <thead>\n",
       "    <tr style=\"text-align: right;\">\n",
       "      <th></th>\n",
       "      <th>Year</th>\n",
       "      <th>Month</th>\n",
       "      <th>Subcategory</th>\n",
       "      <th>Category</th>\n",
       "      <th>Model / Style Number</th>\n",
       "      <th>Ordered Revenue</th>\n",
       "      <th>Ordered Revenue - % of Total</th>\n",
       "      <th>Ordered Revenue - Prior Period</th>\n",
       "      <th>Ordered Units</th>\n",
       "      <th>Subcategory (Sales Rank)</th>\n",
       "      <th>Glance Views</th>\n",
       "      <th>Change in Glance View - MOM</th>\n",
       "      <th>Change in GV YOY</th>\n",
       "      <th>Conversion Rate</th>\n",
       "      <th>LFO (Price)</th>\n",
       "    </tr>\n",
       "  </thead>\n",
       "  <tbody>\n",
       "    <tr>\n",
       "      <th>7635</th>\n",
       "      <td>2021</td>\n",
       "      <td>9</td>\n",
       "      <td>Subcategory 010</td>\n",
       "      <td>Category 05</td>\n",
       "      <td>F94U052dqWHTRG</td>\n",
       "      <td>0.0</td>\n",
       "      <td>0.0</td>\n",
       "      <td>0.0</td>\n",
       "      <td>0</td>\n",
       "      <td>NaN</td>\n",
       "      <td>0.0</td>\n",
       "      <td>—</td>\n",
       "      <td>—</td>\n",
       "      <td>NaN</td>\n",
       "      <td>NaN</td>\n",
       "    </tr>\n",
       "    <tr>\n",
       "      <th>7636</th>\n",
       "      <td>2021</td>\n",
       "      <td>9</td>\n",
       "      <td>Subcategory 010</td>\n",
       "      <td>Category 05</td>\n",
       "      <td>F94U052dqWHTRG</td>\n",
       "      <td>0.0</td>\n",
       "      <td>0.0</td>\n",
       "      <td>0.0</td>\n",
       "      <td>0</td>\n",
       "      <td>NaN</td>\n",
       "      <td>0.0</td>\n",
       "      <td>—</td>\n",
       "      <td>—</td>\n",
       "      <td>NaN</td>\n",
       "      <td>NaN</td>\n",
       "    </tr>\n",
       "    <tr>\n",
       "      <th>9518</th>\n",
       "      <td>2021</td>\n",
       "      <td>11</td>\n",
       "      <td>Subcategory 010</td>\n",
       "      <td>Category 05</td>\n",
       "      <td>F94U050dqWHTRG</td>\n",
       "      <td>0.0</td>\n",
       "      <td>0.0</td>\n",
       "      <td>0.0</td>\n",
       "      <td>0</td>\n",
       "      <td>NaN</td>\n",
       "      <td>0.0</td>\n",
       "      <td>—</td>\n",
       "      <td>—</td>\n",
       "      <td>NaN</td>\n",
       "      <td>NaN</td>\n",
       "    </tr>\n",
       "    <tr>\n",
       "      <th>9519</th>\n",
       "      <td>2021</td>\n",
       "      <td>11</td>\n",
       "      <td>Subcategory 010</td>\n",
       "      <td>Category 05</td>\n",
       "      <td>F94U050dqWHTRG</td>\n",
       "      <td>0.0</td>\n",
       "      <td>0.0</td>\n",
       "      <td>0.0</td>\n",
       "      <td>0</td>\n",
       "      <td>NaN</td>\n",
       "      <td>0.0</td>\n",
       "      <td>—</td>\n",
       "      <td>—</td>\n",
       "      <td>NaN</td>\n",
       "      <td>NaN</td>\n",
       "    </tr>\n",
       "    <tr>\n",
       "      <th>11331</th>\n",
       "      <td>2022</td>\n",
       "      <td>1</td>\n",
       "      <td>Subcategory 014</td>\n",
       "      <td>Category 05</td>\n",
       "      <td>F94U0562ttWHT</td>\n",
       "      <td>0.0</td>\n",
       "      <td>0.0</td>\n",
       "      <td>0.0</td>\n",
       "      <td>0</td>\n",
       "      <td>NaN</td>\n",
       "      <td>0.0</td>\n",
       "      <td>—</td>\n",
       "      <td>—</td>\n",
       "      <td>NaN</td>\n",
       "      <td>NaN</td>\n",
       "    </tr>\n",
       "    <tr>\n",
       "      <th>11332</th>\n",
       "      <td>2022</td>\n",
       "      <td>1</td>\n",
       "      <td>Subcategory 014</td>\n",
       "      <td>Category 05</td>\n",
       "      <td>F94U0562ttWHT</td>\n",
       "      <td>0.0</td>\n",
       "      <td>0.0</td>\n",
       "      <td>0.0</td>\n",
       "      <td>0</td>\n",
       "      <td>NaN</td>\n",
       "      <td>0.0</td>\n",
       "      <td>—</td>\n",
       "      <td>—</td>\n",
       "      <td>NaN</td>\n",
       "      <td>NaN</td>\n",
       "    </tr>\n",
       "    <tr>\n",
       "      <th>11398</th>\n",
       "      <td>2022</td>\n",
       "      <td>1</td>\n",
       "      <td>Subcategory 020</td>\n",
       "      <td>Category 05</td>\n",
       "      <td>F2CU046bt06WHT</td>\n",
       "      <td>0.0</td>\n",
       "      <td>0.0</td>\n",
       "      <td>0.0</td>\n",
       "      <td>0</td>\n",
       "      <td>NaN</td>\n",
       "      <td>0.0</td>\n",
       "      <td>—</td>\n",
       "      <td>—</td>\n",
       "      <td>NaN</td>\n",
       "      <td>NaN</td>\n",
       "    </tr>\n",
       "    <tr>\n",
       "      <th>11399</th>\n",
       "      <td>2022</td>\n",
       "      <td>1</td>\n",
       "      <td>Subcategory 020</td>\n",
       "      <td>Category 05</td>\n",
       "      <td>F2CU046bt06WHT</td>\n",
       "      <td>0.0</td>\n",
       "      <td>0.0</td>\n",
       "      <td>0.0</td>\n",
       "      <td>0</td>\n",
       "      <td>NaN</td>\n",
       "      <td>0.0</td>\n",
       "      <td>—</td>\n",
       "      <td>—</td>\n",
       "      <td>NaN</td>\n",
       "      <td>NaN</td>\n",
       "    </tr>\n",
       "    <tr>\n",
       "      <th>13105</th>\n",
       "      <td>2022</td>\n",
       "      <td>3</td>\n",
       "      <td>Subcategory 066</td>\n",
       "      <td>Category 21</td>\n",
       "      <td>G1S00003ttWHT</td>\n",
       "      <td>0.0</td>\n",
       "      <td>0.0</td>\n",
       "      <td>0.0</td>\n",
       "      <td>0</td>\n",
       "      <td>NaN</td>\n",
       "      <td>0.0</td>\n",
       "      <td>—</td>\n",
       "      <td>-1</td>\n",
       "      <td>NaN</td>\n",
       "      <td>NaN</td>\n",
       "    </tr>\n",
       "    <tr>\n",
       "      <th>13106</th>\n",
       "      <td>2022</td>\n",
       "      <td>3</td>\n",
       "      <td>Subcategory 066</td>\n",
       "      <td>Category 21</td>\n",
       "      <td>G1S00003ttWHT</td>\n",
       "      <td>0.0</td>\n",
       "      <td>0.0</td>\n",
       "      <td>0.0</td>\n",
       "      <td>0</td>\n",
       "      <td>NaN</td>\n",
       "      <td>0.0</td>\n",
       "      <td>—</td>\n",
       "      <td>-1</td>\n",
       "      <td>NaN</td>\n",
       "      <td>NaN</td>\n",
       "    </tr>\n",
       "    <tr>\n",
       "      <th>13109</th>\n",
       "      <td>2022</td>\n",
       "      <td>3</td>\n",
       "      <td>Subcategory 010</td>\n",
       "      <td>Category 05</td>\n",
       "      <td>F94U0994dq</td>\n",
       "      <td>0.0</td>\n",
       "      <td>0.0</td>\n",
       "      <td>0.0</td>\n",
       "      <td>0</td>\n",
       "      <td>NaN</td>\n",
       "      <td>0.0</td>\n",
       "      <td>—</td>\n",
       "      <td>—</td>\n",
       "      <td>NaN</td>\n",
       "      <td>NaN</td>\n",
       "    </tr>\n",
       "    <tr>\n",
       "      <th>13112</th>\n",
       "      <td>2022</td>\n",
       "      <td>3</td>\n",
       "      <td>Subcategory 010</td>\n",
       "      <td>Category 05</td>\n",
       "      <td>F94U0994dq</td>\n",
       "      <td>0.0</td>\n",
       "      <td>0.0</td>\n",
       "      <td>0.0</td>\n",
       "      <td>0</td>\n",
       "      <td>NaN</td>\n",
       "      <td>0.0</td>\n",
       "      <td>—</td>\n",
       "      <td>—</td>\n",
       "      <td>NaN</td>\n",
       "      <td>NaN</td>\n",
       "    </tr>\n",
       "    <tr>\n",
       "      <th>13124</th>\n",
       "      <td>2022</td>\n",
       "      <td>3</td>\n",
       "      <td>Subcategory 014</td>\n",
       "      <td>Category 05</td>\n",
       "      <td>F94U0562ttWHT</td>\n",
       "      <td>0.0</td>\n",
       "      <td>0.0</td>\n",
       "      <td>0.0</td>\n",
       "      <td>0</td>\n",
       "      <td>NaN</td>\n",
       "      <td>0.0</td>\n",
       "      <td>—</td>\n",
       "      <td>—</td>\n",
       "      <td>NaN</td>\n",
       "      <td>NaN</td>\n",
       "    </tr>\n",
       "    <tr>\n",
       "      <th>13125</th>\n",
       "      <td>2022</td>\n",
       "      <td>3</td>\n",
       "      <td>Subcategory 014</td>\n",
       "      <td>Category 05</td>\n",
       "      <td>F94U0562ttWHT</td>\n",
       "      <td>0.0</td>\n",
       "      <td>0.0</td>\n",
       "      <td>0.0</td>\n",
       "      <td>0</td>\n",
       "      <td>NaN</td>\n",
       "      <td>0.0</td>\n",
       "      <td>—</td>\n",
       "      <td>—</td>\n",
       "      <td>NaN</td>\n",
       "      <td>NaN</td>\n",
       "    </tr>\n",
       "    <tr>\n",
       "      <th>14959</th>\n",
       "      <td>2022</td>\n",
       "      <td>5</td>\n",
       "      <td>Subcategory 066</td>\n",
       "      <td>Category 21</td>\n",
       "      <td>G1S00003ttWHT</td>\n",
       "      <td>0.0</td>\n",
       "      <td>0.0</td>\n",
       "      <td>0.0</td>\n",
       "      <td>0</td>\n",
       "      <td>NaN</td>\n",
       "      <td>0.0</td>\n",
       "      <td>—</td>\n",
       "      <td>—</td>\n",
       "      <td>NaN</td>\n",
       "      <td>NaN</td>\n",
       "    </tr>\n",
       "    <tr>\n",
       "      <th>14961</th>\n",
       "      <td>2022</td>\n",
       "      <td>5</td>\n",
       "      <td>Subcategory 066</td>\n",
       "      <td>Category 21</td>\n",
       "      <td>G1S00003ttWHT</td>\n",
       "      <td>0.0</td>\n",
       "      <td>0.0</td>\n",
       "      <td>0.0</td>\n",
       "      <td>0</td>\n",
       "      <td>NaN</td>\n",
       "      <td>0.0</td>\n",
       "      <td>—</td>\n",
       "      <td>—</td>\n",
       "      <td>NaN</td>\n",
       "      <td>NaN</td>\n",
       "    </tr>\n",
       "  </tbody>\n",
       "</table>\n",
       "</div>"
      ],
      "text/plain": [
       "       Year  Month      Subcategory     Category Model / Style Number  \\\n",
       "7635   2021      9  Subcategory 010  Category 05       F94U052dqWHTRG   \n",
       "7636   2021      9  Subcategory 010  Category 05       F94U052dqWHTRG   \n",
       "9518   2021     11  Subcategory 010  Category 05       F94U050dqWHTRG   \n",
       "9519   2021     11  Subcategory 010  Category 05       F94U050dqWHTRG   \n",
       "11331  2022      1  Subcategory 014  Category 05        F94U0562ttWHT   \n",
       "11332  2022      1  Subcategory 014  Category 05        F94U0562ttWHT   \n",
       "11398  2022      1  Subcategory 020  Category 05       F2CU046bt06WHT   \n",
       "11399  2022      1  Subcategory 020  Category 05       F2CU046bt06WHT   \n",
       "13105  2022      3  Subcategory 066  Category 21        G1S00003ttWHT   \n",
       "13106  2022      3  Subcategory 066  Category 21        G1S00003ttWHT   \n",
       "13109  2022      3  Subcategory 010  Category 05           F94U0994dq   \n",
       "13112  2022      3  Subcategory 010  Category 05           F94U0994dq   \n",
       "13124  2022      3  Subcategory 014  Category 05        F94U0562ttWHT   \n",
       "13125  2022      3  Subcategory 014  Category 05        F94U0562ttWHT   \n",
       "14959  2022      5  Subcategory 066  Category 21        G1S00003ttWHT   \n",
       "14961  2022      5  Subcategory 066  Category 21        G1S00003ttWHT   \n",
       "\n",
       "       Ordered Revenue  Ordered Revenue - % of Total  \\\n",
       "7635               0.0                           0.0   \n",
       "7636               0.0                           0.0   \n",
       "9518               0.0                           0.0   \n",
       "9519               0.0                           0.0   \n",
       "11331              0.0                           0.0   \n",
       "11332              0.0                           0.0   \n",
       "11398              0.0                           0.0   \n",
       "11399              0.0                           0.0   \n",
       "13105              0.0                           0.0   \n",
       "13106              0.0                           0.0   \n",
       "13109              0.0                           0.0   \n",
       "13112              0.0                           0.0   \n",
       "13124              0.0                           0.0   \n",
       "13125              0.0                           0.0   \n",
       "14959              0.0                           0.0   \n",
       "14961              0.0                           0.0   \n",
       "\n",
       "       Ordered Revenue - Prior Period  Ordered Units  \\\n",
       "7635                              0.0              0   \n",
       "7636                              0.0              0   \n",
       "9518                              0.0              0   \n",
       "9519                              0.0              0   \n",
       "11331                             0.0              0   \n",
       "11332                             0.0              0   \n",
       "11398                             0.0              0   \n",
       "11399                             0.0              0   \n",
       "13105                             0.0              0   \n",
       "13106                             0.0              0   \n",
       "13109                             0.0              0   \n",
       "13112                             0.0              0   \n",
       "13124                             0.0              0   \n",
       "13125                             0.0              0   \n",
       "14959                             0.0              0   \n",
       "14961                             0.0              0   \n",
       "\n",
       "       Subcategory (Sales Rank)  Glance Views Change in Glance View - MOM  \\\n",
       "7635                        NaN           0.0                           —   \n",
       "7636                        NaN           0.0                           —   \n",
       "9518                        NaN           0.0                           —   \n",
       "9519                        NaN           0.0                           —   \n",
       "11331                       NaN           0.0                           —   \n",
       "11332                       NaN           0.0                           —   \n",
       "11398                       NaN           0.0                           —   \n",
       "11399                       NaN           0.0                           —   \n",
       "13105                       NaN           0.0                           —   \n",
       "13106                       NaN           0.0                           —   \n",
       "13109                       NaN           0.0                           —   \n",
       "13112                       NaN           0.0                           —   \n",
       "13124                       NaN           0.0                           —   \n",
       "13125                       NaN           0.0                           —   \n",
       "14959                       NaN           0.0                           —   \n",
       "14961                       NaN           0.0                           —   \n",
       "\n",
       "      Change in GV YOY  Conversion Rate  LFO (Price)  \n",
       "7635                 —              NaN          NaN  \n",
       "7636                 —              NaN          NaN  \n",
       "9518                 —              NaN          NaN  \n",
       "9519                 —              NaN          NaN  \n",
       "11331                —              NaN          NaN  \n",
       "11332                —              NaN          NaN  \n",
       "11398                —              NaN          NaN  \n",
       "11399                —              NaN          NaN  \n",
       "13105               -1              NaN          NaN  \n",
       "13106               -1              NaN          NaN  \n",
       "13109                —              NaN          NaN  \n",
       "13112                —              NaN          NaN  \n",
       "13124                —              NaN          NaN  \n",
       "13125                —              NaN          NaN  \n",
       "14959                —              NaN          NaN  \n",
       "14961                —              NaN          NaN  "
      ]
     },
     "execution_count": 8,
     "metadata": {},
     "output_type": "execute_result"
    }
   ],
   "source": [
    "#Check for duplicate rows\n",
    "print(\"Duplicate counnt\", data.duplicated().sum())\n",
    "data.loc[data.duplicated(keep=False),:]"
   ]
  },
  {
   "cell_type": "code",
   "execution_count": 9,
   "id": "1bf4a01d",
   "metadata": {},
   "outputs": [],
   "source": [
    "data=data.drop_duplicates()"
   ]
  },
  {
   "cell_type": "code",
   "execution_count": 10,
   "id": "54317fd2",
   "metadata": {},
   "outputs": [
    {
     "data": {
      "text/plain": [
       "(16128, 15)"
      ]
     },
     "execution_count": 10,
     "metadata": {},
     "output_type": "execute_result"
    }
   ],
   "source": [
    "data.shape"
   ]
  },
  {
   "cell_type": "code",
   "execution_count": 11,
   "id": "12df37e2",
   "metadata": {},
   "outputs": [
    {
     "data": {
      "text/plain": [
       "Year                                  2\n",
       "Month                                12\n",
       "Subcategory                          77\n",
       "Category                             28\n",
       "Model / Style Number               1394\n",
       "Ordered Revenue                   11064\n",
       "Ordered Revenue - % of Total      11047\n",
       "Ordered Revenue - Prior Period    10830\n",
       "Ordered Units                      1668\n",
       "Subcategory (Sales Rank)           3096\n",
       "Glance Views                       3787\n",
       "Change in Glance View - MOM        7630\n",
       "Change in GV YOY                   5855\n",
       "Conversion Rate                    6719\n",
       "LFO (Price)                        3515\n",
       "dtype: int64"
      ]
     },
     "execution_count": 11,
     "metadata": {},
     "output_type": "execute_result"
    }
   ],
   "source": [
    "data.nunique()"
   ]
  },
  {
   "cell_type": "code",
   "execution_count": 12,
   "id": "c4e38cab",
   "metadata": {},
   "outputs": [
    {
     "data": {
      "text/plain": [
       "float64    7\n",
       "object     5\n",
       "int64      3\n",
       "dtype: int64"
      ]
     },
     "execution_count": 12,
     "metadata": {},
     "output_type": "execute_result"
    }
   ],
   "source": [
    "data.dtypes.value_counts()"
   ]
  },
  {
   "cell_type": "code",
   "execution_count": 13,
   "id": "28f42747",
   "metadata": {},
   "outputs": [
    {
     "data": {
      "text/plain": [
       "Index(['Subcategory (Sales Rank)', 'Glance Views',\n",
       "       'Change in Glance View - MOM', 'Change in GV YOY', 'Conversion Rate',\n",
       "       'LFO (Price)'],\n",
       "      dtype='object')"
      ]
     },
     "execution_count": 13,
     "metadata": {},
     "output_type": "execute_result"
    }
   ],
   "source": [
    "#Null value Columns\n",
    "null_cols=data.columns[data.isna().any()]\n",
    "null_cols"
   ]
  },
  {
   "cell_type": "code",
   "execution_count": 14,
   "id": "502fd8ca",
   "metadata": {},
   "outputs": [
    {
     "data": {
      "text/plain": [
       "Year                                 0\n",
       "Month                                0\n",
       "Subcategory                          0\n",
       "Category                             0\n",
       "Model / Style Number                 0\n",
       "Ordered Revenue                      0\n",
       "Ordered Revenue - % of Total         0\n",
       "Ordered Revenue - Prior Period       0\n",
       "Ordered Units                        0\n",
       "Subcategory (Sales Rank)          1001\n",
       "Glance Views                       107\n",
       "Change in Glance View - MOM        107\n",
       "Change in GV YOY                   107\n",
       "Conversion Rate                   5101\n",
       "LFO (Price)                       5396\n",
       "dtype: int64"
      ]
     },
     "execution_count": 14,
     "metadata": {},
     "output_type": "execute_result"
    }
   ],
   "source": [
    "data.isnull().sum()"
   ]
  },
  {
   "cell_type": "code",
   "execution_count": 15,
   "id": "f943cb93",
   "metadata": {},
   "outputs": [
    {
     "data": {
      "text/plain": [
       "Year                               0.000000\n",
       "Month                              0.000000\n",
       "Subcategory                        0.000000\n",
       "Category                           0.000000\n",
       "Model / Style Number               0.000000\n",
       "Ordered Revenue                    0.000000\n",
       "Ordered Revenue - % of Total       0.000000\n",
       "Ordered Revenue - Prior Period     0.000000\n",
       "Ordered Units                      0.000000\n",
       "Subcategory (Sales Rank)           6.206597\n",
       "Glance Views                       0.663442\n",
       "Change in Glance View - MOM        0.663442\n",
       "Change in GV YOY                   0.663442\n",
       "Conversion Rate                   31.628224\n",
       "LFO (Price)                       33.457341\n",
       "dtype: float64"
      ]
     },
     "execution_count": 15,
     "metadata": {},
     "output_type": "execute_result"
    }
   ],
   "source": [
    "data.isnull().sum()/len(data)*100"
   ]
  },
  {
   "cell_type": "code",
   "execution_count": 16,
   "id": "9cdd5e4b",
   "metadata": {
    "scrolled": true
   },
   "outputs": [
    {
     "data": {
      "text/html": [
       "<div>\n",
       "<style scoped>\n",
       "    .dataframe tbody tr th:only-of-type {\n",
       "        vertical-align: middle;\n",
       "    }\n",
       "\n",
       "    .dataframe tbody tr th {\n",
       "        vertical-align: top;\n",
       "    }\n",
       "\n",
       "    .dataframe thead th {\n",
       "        text-align: right;\n",
       "    }\n",
       "</style>\n",
       "<table border=\"1\" class=\"dataframe\">\n",
       "  <thead>\n",
       "    <tr style=\"text-align: right;\">\n",
       "      <th></th>\n",
       "      <th>Year</th>\n",
       "      <th>Month</th>\n",
       "      <th>Subcategory</th>\n",
       "      <th>Category</th>\n",
       "      <th>Model / Style Number</th>\n",
       "      <th>Ordered Revenue</th>\n",
       "      <th>Ordered Revenue - % of Total</th>\n",
       "      <th>Ordered Revenue - Prior Period</th>\n",
       "      <th>Ordered Units</th>\n",
       "      <th>Subcategory (Sales Rank)</th>\n",
       "      <th>Glance Views</th>\n",
       "      <th>Change in Glance View - MOM</th>\n",
       "      <th>Change in GV YOY</th>\n",
       "      <th>Conversion Rate</th>\n",
       "      <th>LFO (Price)</th>\n",
       "    </tr>\n",
       "  </thead>\n",
       "  <tbody>\n",
       "    <tr>\n",
       "      <th>1279</th>\n",
       "      <td>2021</td>\n",
       "      <td>2</td>\n",
       "      <td>Subcategory 072</td>\n",
       "      <td>Category 25</td>\n",
       "      <td>F2F5602STST20R</td>\n",
       "      <td>55.171981</td>\n",
       "      <td>0.000008</td>\n",
       "      <td>0.0</td>\n",
       "      <td>0</td>\n",
       "      <td>2018.0</td>\n",
       "      <td>0.0</td>\n",
       "      <td>—</td>\n",
       "      <td>—</td>\n",
       "      <td>NaN</td>\n",
       "      <td>1.0</td>\n",
       "    </tr>\n",
       "    <tr>\n",
       "      <th>1295</th>\n",
       "      <td>2021</td>\n",
       "      <td>2</td>\n",
       "      <td>Subcategory 020</td>\n",
       "      <td>Category 05</td>\n",
       "      <td>F56J023bt2RWHT</td>\n",
       "      <td>40.901686</td>\n",
       "      <td>0.000006</td>\n",
       "      <td>0.0</td>\n",
       "      <td>0</td>\n",
       "      <td>247.0</td>\n",
       "      <td>0.0</td>\n",
       "      <td>—</td>\n",
       "      <td>—</td>\n",
       "      <td>NaN</td>\n",
       "      <td>NaN</td>\n",
       "    </tr>\n",
       "    <tr>\n",
       "      <th>1346</th>\n",
       "      <td>2021</td>\n",
       "      <td>2</td>\n",
       "      <td>Subcategory 020</td>\n",
       "      <td>Category 05</td>\n",
       "      <td>F2CU059bt04WHT</td>\n",
       "      <td>41.495307</td>\n",
       "      <td>0.000006</td>\n",
       "      <td>0.0</td>\n",
       "      <td>1</td>\n",
       "      <td>283.0</td>\n",
       "      <td>0.0</td>\n",
       "      <td>—</td>\n",
       "      <td>—</td>\n",
       "      <td>NaN</td>\n",
       "      <td>1.0</td>\n",
       "    </tr>\n",
       "    <tr>\n",
       "      <th>1353</th>\n",
       "      <td>2021</td>\n",
       "      <td>2</td>\n",
       "      <td>Subcategory 020</td>\n",
       "      <td>Category 05</td>\n",
       "      <td>F2CU041bt06SSTV</td>\n",
       "      <td>21.012325</td>\n",
       "      <td>0.000003</td>\n",
       "      <td>0.0</td>\n",
       "      <td>0</td>\n",
       "      <td>371.0</td>\n",
       "      <td>0.0</td>\n",
       "      <td>—</td>\n",
       "      <td>—</td>\n",
       "      <td>NaN</td>\n",
       "      <td>1.0</td>\n",
       "    </tr>\n",
       "    <tr>\n",
       "      <th>1369</th>\n",
       "      <td>2021</td>\n",
       "      <td>2</td>\n",
       "      <td>Subcategory 028</td>\n",
       "      <td>Category 13</td>\n",
       "      <td>ZST9560036BSTUS</td>\n",
       "      <td>14.364572</td>\n",
       "      <td>0.000002</td>\n",
       "      <td>0.0</td>\n",
       "      <td>1</td>\n",
       "      <td>248.0</td>\n",
       "      <td>NaN</td>\n",
       "      <td>NaN</td>\n",
       "      <td>NaN</td>\n",
       "      <td>NaN</td>\n",
       "      <td>NaN</td>\n",
       "    </tr>\n",
       "  </tbody>\n",
       "</table>\n",
       "</div>"
      ],
      "text/plain": [
       "      Year  Month      Subcategory     Category Model / Style Number  \\\n",
       "1279  2021      2  Subcategory 072  Category 25       F2F5602STST20R   \n",
       "1295  2021      2  Subcategory 020  Category 05       F56J023bt2RWHT   \n",
       "1346  2021      2  Subcategory 020  Category 05       F2CU059bt04WHT   \n",
       "1353  2021      2  Subcategory 020  Category 05      F2CU041bt06SSTV   \n",
       "1369  2021      2  Subcategory 028  Category 13      ZST9560036BSTUS   \n",
       "\n",
       "      Ordered Revenue  Ordered Revenue - % of Total  \\\n",
       "1279        55.171981                      0.000008   \n",
       "1295        40.901686                      0.000006   \n",
       "1346        41.495307                      0.000006   \n",
       "1353        21.012325                      0.000003   \n",
       "1369        14.364572                      0.000002   \n",
       "\n",
       "      Ordered Revenue - Prior Period  Ordered Units  Subcategory (Sales Rank)  \\\n",
       "1279                             0.0              0                    2018.0   \n",
       "1295                             0.0              0                     247.0   \n",
       "1346                             0.0              1                     283.0   \n",
       "1353                             0.0              0                     371.0   \n",
       "1369                             0.0              1                     248.0   \n",
       "\n",
       "      Glance Views Change in Glance View - MOM Change in GV YOY  \\\n",
       "1279           0.0                           —                —   \n",
       "1295           0.0                           —                —   \n",
       "1346           0.0                           —                —   \n",
       "1353           0.0                           —                —   \n",
       "1369           NaN                         NaN              NaN   \n",
       "\n",
       "      Conversion Rate  LFO (Price)  \n",
       "1279              NaN          1.0  \n",
       "1295              NaN          NaN  \n",
       "1346              NaN          1.0  \n",
       "1353              NaN          1.0  \n",
       "1369              NaN          NaN  "
      ]
     },
     "execution_count": 16,
     "metadata": {},
     "output_type": "execute_result"
    }
   ],
   "source": [
    "cr_null=data[data[\"Conversion Rate\"].isnull()]\n",
    "cr_null[cr_null[\"Month\"]!=1].head()"
   ]
  },
  {
   "cell_type": "code",
   "execution_count": 17,
   "id": "b4eee52c",
   "metadata": {},
   "outputs": [],
   "source": [
    "bool=data[\"Change in Glance View - MOM\"].str.replace('\\W', '0', regex=True)"
   ]
  },
  {
   "cell_type": "code",
   "execution_count": 18,
   "id": "7623f5ea",
   "metadata": {},
   "outputs": [
    {
     "data": {
      "text/plain": [
       "NaN    11076\n",
       "0       5052\n",
       "Name: Change in Glance View - MOM, dtype: int64"
      ]
     },
     "execution_count": 18,
     "metadata": {},
     "output_type": "execute_result"
    }
   ],
   "source": [
    "bool.value_counts(dropna=False)"
   ]
  },
  {
   "cell_type": "code",
   "execution_count": 19,
   "id": "e28beb3d",
   "metadata": {},
   "outputs": [
    {
     "data": {
      "text/plain": [
       "11076"
      ]
     },
     "execution_count": 19,
     "metadata": {},
     "output_type": "execute_result"
    }
   ],
   "source": [
    "bool.isnull().sum()"
   ]
  },
  {
   "cell_type": "code",
   "execution_count": 20,
   "id": "1b748f6a",
   "metadata": {},
   "outputs": [],
   "source": [
    "#data[\"Month\"].value_counts(dropna=False)"
   ]
  },
  {
   "cell_type": "markdown",
   "id": "d1e09721",
   "metadata": {},
   "source": [
    "Indexing with Time Series Data\n"
   ]
  },
  {
   "cell_type": "code",
   "execution_count": 21,
   "id": "458790e3",
   "metadata": {},
   "outputs": [],
   "source": [
    "df=data.copy()"
   ]
  },
  {
   "cell_type": "code",
   "execution_count": 22,
   "id": "cf2073fe",
   "metadata": {},
   "outputs": [],
   "source": [
    "df[\"Date\"] = pd.to_datetime(df[\"Year\"].astype('str') + \"/\" + df[\"Month\"].astype('str'))"
   ]
  },
  {
   "cell_type": "code",
   "execution_count": 23,
   "id": "5434839a",
   "metadata": {},
   "outputs": [
    {
     "data": {
      "text/plain": [
       "3034   2021-04-01\n",
       "2677   2021-04-01\n",
       "4165   2021-05-01\n",
       "Name: Date, dtype: datetime64[ns]"
      ]
     },
     "execution_count": 23,
     "metadata": {},
     "output_type": "execute_result"
    }
   ],
   "source": [
    "df[\"Date\"].sample(3)"
   ]
  },
  {
   "cell_type": "code",
   "execution_count": 24,
   "id": "6e22c831",
   "metadata": {},
   "outputs": [
    {
     "data": {
      "text/plain": [
       "DatetimeIndex(['2021-01-01', '2021-01-01', '2021-01-01', '2021-01-01',\n",
       "               '2021-01-01', '2021-01-01', '2021-01-01', '2021-01-01',\n",
       "               '2021-01-01', '2021-01-01',\n",
       "               ...\n",
       "               '2022-06-01', '2022-06-01', '2022-06-01', '2022-06-01',\n",
       "               '2022-06-01', '2022-06-01', '2022-06-01', '2022-06-01',\n",
       "               '2022-06-01', '2022-06-01'],\n",
       "              dtype='datetime64[ns]', name='Date', length=16128, freq=None)"
      ]
     },
     "execution_count": 24,
     "metadata": {},
     "output_type": "execute_result"
    }
   ],
   "source": [
    "df = df.set_index('Date')\n",
    "df.index"
   ]
  },
  {
   "cell_type": "code",
   "execution_count": 25,
   "id": "f41efa4a",
   "metadata": {},
   "outputs": [
    {
     "data": {
      "text/html": [
       "<div>\n",
       "<style scoped>\n",
       "    .dataframe tbody tr th:only-of-type {\n",
       "        vertical-align: middle;\n",
       "    }\n",
       "\n",
       "    .dataframe tbody tr th {\n",
       "        vertical-align: top;\n",
       "    }\n",
       "\n",
       "    .dataframe thead th {\n",
       "        text-align: right;\n",
       "    }\n",
       "</style>\n",
       "<table border=\"1\" class=\"dataframe\">\n",
       "  <thead>\n",
       "    <tr style=\"text-align: right;\">\n",
       "      <th></th>\n",
       "      <th>Year</th>\n",
       "      <th>Month</th>\n",
       "      <th>Subcategory</th>\n",
       "      <th>Category</th>\n",
       "      <th>Model / Style Number</th>\n",
       "      <th>Ordered Revenue</th>\n",
       "      <th>Ordered Revenue - % of Total</th>\n",
       "      <th>Ordered Revenue - Prior Period</th>\n",
       "      <th>Ordered Units</th>\n",
       "      <th>Subcategory (Sales Rank)</th>\n",
       "      <th>Glance Views</th>\n",
       "      <th>Change in Glance View - MOM</th>\n",
       "      <th>Change in GV YOY</th>\n",
       "      <th>Conversion Rate</th>\n",
       "      <th>LFO (Price)</th>\n",
       "    </tr>\n",
       "    <tr>\n",
       "      <th>Date</th>\n",
       "      <th></th>\n",
       "      <th></th>\n",
       "      <th></th>\n",
       "      <th></th>\n",
       "      <th></th>\n",
       "      <th></th>\n",
       "      <th></th>\n",
       "      <th></th>\n",
       "      <th></th>\n",
       "      <th></th>\n",
       "      <th></th>\n",
       "      <th></th>\n",
       "      <th></th>\n",
       "      <th></th>\n",
       "      <th></th>\n",
       "    </tr>\n",
       "  </thead>\n",
       "  <tbody>\n",
       "    <tr>\n",
       "      <th>2021-01-01</th>\n",
       "      <td>2021</td>\n",
       "      <td>1</td>\n",
       "      <td>Subcategory 070</td>\n",
       "      <td>Category 24</td>\n",
       "      <td>BE112230056</td>\n",
       "      <td>321270.0840</td>\n",
       "      <td>0.045487</td>\n",
       "      <td>-0.052463</td>\n",
       "      <td>80022</td>\n",
       "      <td>2.0</td>\n",
       "      <td>334355.0</td>\n",
       "      <td>-0.183714</td>\n",
       "      <td>1.548302</td>\n",
       "      <td>0.100755</td>\n",
       "      <td>0.000009</td>\n",
       "    </tr>\n",
       "    <tr>\n",
       "      <th>2021-01-01</th>\n",
       "      <td>2021</td>\n",
       "      <td>1</td>\n",
       "      <td>Subcategory 014</td>\n",
       "      <td>Category 05</td>\n",
       "      <td>WIZ0003ttBK</td>\n",
       "      <td>328651.1945</td>\n",
       "      <td>0.046532</td>\n",
       "      <td>0.109727</td>\n",
       "      <td>4123</td>\n",
       "      <td>2.0</td>\n",
       "      <td>89784.0</td>\n",
       "      <td>-0.132924</td>\n",
       "      <td>—</td>\n",
       "      <td>0.029125</td>\n",
       "      <td>0.000000</td>\n",
       "    </tr>\n",
       "    <tr>\n",
       "      <th>2021-01-01</th>\n",
       "      <td>2021</td>\n",
       "      <td>1</td>\n",
       "      <td>Subcategory 070</td>\n",
       "      <td>Category 24</td>\n",
       "      <td>BP112230056</td>\n",
       "      <td>329032.4535</td>\n",
       "      <td>0.046586</td>\n",
       "      <td>0.033723</td>\n",
       "      <td>1896</td>\n",
       "      <td>5.0</td>\n",
       "      <td>103721.0</td>\n",
       "      <td>0.175122</td>\n",
       "      <td>0.725922</td>\n",
       "      <td>0.056102</td>\n",
       "      <td>0.000060</td>\n",
       "    </tr>\n",
       "  </tbody>\n",
       "</table>\n",
       "</div>"
      ],
      "text/plain": [
       "            Year  Month      Subcategory     Category Model / Style Number  \\\n",
       "Date                                                                         \n",
       "2021-01-01  2021      1  Subcategory 070  Category 24          BE112230056   \n",
       "2021-01-01  2021      1  Subcategory 014  Category 05          WIZ0003ttBK   \n",
       "2021-01-01  2021      1  Subcategory 070  Category 24          BP112230056   \n",
       "\n",
       "            Ordered Revenue  Ordered Revenue - % of Total  \\\n",
       "Date                                                        \n",
       "2021-01-01      321270.0840                      0.045487   \n",
       "2021-01-01      328651.1945                      0.046532   \n",
       "2021-01-01      329032.4535                      0.046586   \n",
       "\n",
       "            Ordered Revenue - Prior Period  Ordered Units  \\\n",
       "Date                                                        \n",
       "2021-01-01                       -0.052463          80022   \n",
       "2021-01-01                        0.109727           4123   \n",
       "2021-01-01                        0.033723           1896   \n",
       "\n",
       "            Subcategory (Sales Rank)  Glance Views  \\\n",
       "Date                                                 \n",
       "2021-01-01                       2.0      334355.0   \n",
       "2021-01-01                       2.0       89784.0   \n",
       "2021-01-01                       5.0      103721.0   \n",
       "\n",
       "           Change in Glance View - MOM Change in GV YOY  Conversion Rate  \\\n",
       "Date                                                                       \n",
       "2021-01-01                   -0.183714         1.548302         0.100755   \n",
       "2021-01-01                   -0.132924                —         0.029125   \n",
       "2021-01-01                    0.175122         0.725922         0.056102   \n",
       "\n",
       "            LFO (Price)  \n",
       "Date                     \n",
       "2021-01-01     0.000009  \n",
       "2021-01-01     0.000000  \n",
       "2021-01-01     0.000060  "
      ]
     },
     "execution_count": 25,
     "metadata": {},
     "output_type": "execute_result"
    }
   ],
   "source": [
    "df.head(3)"
   ]
  },
  {
   "cell_type": "code",
   "execution_count": 26,
   "id": "6fb73cfd",
   "metadata": {},
   "outputs": [
    {
     "data": {
      "text/plain": [
       "0"
      ]
     },
     "execution_count": 26,
     "metadata": {},
     "output_type": "execute_result"
    }
   ],
   "source": [
    "df['Ordered Revenue - Prior Period'].isnull().sum()"
   ]
  },
  {
   "cell_type": "code",
   "execution_count": 27,
   "id": "39f1f45e",
   "metadata": {},
   "outputs": [
    {
     "data": {
      "text/plain": [
       " 0.000000    5299\n",
       "-0.142301       1\n",
       "-0.003004       1\n",
       " 0.018959       1\n",
       "-0.019011       1\n",
       "             ... \n",
       " 0.317926       1\n",
       "-0.354755       1\n",
       "-0.030213       1\n",
       " 0.058167       1\n",
       "-0.567600       1\n",
       "Name: Ordered Revenue - Prior Period, Length: 10830, dtype: int64"
      ]
     },
     "execution_count": 27,
     "metadata": {},
     "output_type": "execute_result"
    }
   ],
   "source": [
    "df['Ordered Revenue - Prior Period'].value_counts()"
   ]
  },
  {
   "cell_type": "code",
   "execution_count": 28,
   "id": "bb4d4ee8",
   "metadata": {},
   "outputs": [],
   "source": [
    "#df['Ordered Revenue - Prior Period']=df['Ordered Revenue - Prior Period'].str.replace(r'\\D+', '0', regex=True)\n"
   ]
  },
  {
   "cell_type": "code",
   "execution_count": 29,
   "id": "ab6d09e9",
   "metadata": {},
   "outputs": [],
   "source": [
    "#df['Ordered Revenue - Prior Period']=df['Ordered Revenue - Prior Period'].fillna('0')\n",
    "#df['Ordered Revenue - Prior Period']=df['Ordered Revenue - Prior Period'].astype('float')"
   ]
  },
  {
   "cell_type": "code",
   "execution_count": 30,
   "id": "207bfe98",
   "metadata": {},
   "outputs": [],
   "source": [
    "df_new =df.groupby(['Date'], as_index=True).agg({\n",
    "                                                            \n",
    "                                                             'Year':lambda x: x.unique(),\n",
    "    \n",
    "                                                             'Month':lambda x: x.unique(),\n",
    "  \n",
    "                                                             'Category':lambda x: x.unique(),\n",
    "\n",
    "                                                             'Ordered Revenue' : lambda x: x.sum(),\n",
    "                                                                \n",
    "                                                             'Subcategory':lambda x: x.count(),\n",
    "    \n",
    "                                                              'Ordered Units': lambda x:x.sum(),\n",
    "    \n",
    "                                                            'Ordered Revenue - Prior Period':lambda x: x.sum(),\n",
    "                                                                \n",
    "                                                              #'': lambda x:list(set(x.tolist())),\n",
    "    \n",
    "                                                              #'':lambda x:x.unique()\n",
    "                                                                 })\n",
    "\n"
   ]
  },
  {
   "cell_type": "code",
   "execution_count": 31,
   "id": "7689144b",
   "metadata": {},
   "outputs": [
    {
     "data": {
      "text/html": [
       "<div>\n",
       "<style scoped>\n",
       "    .dataframe tbody tr th:only-of-type {\n",
       "        vertical-align: middle;\n",
       "    }\n",
       "\n",
       "    .dataframe tbody tr th {\n",
       "        vertical-align: top;\n",
       "    }\n",
       "\n",
       "    .dataframe thead th {\n",
       "        text-align: right;\n",
       "    }\n",
       "</style>\n",
       "<table border=\"1\" class=\"dataframe\">\n",
       "  <thead>\n",
       "    <tr style=\"text-align: right;\">\n",
       "      <th></th>\n",
       "      <th>Year</th>\n",
       "      <th>Month</th>\n",
       "      <th>Category</th>\n",
       "      <th>Ordered Revenue</th>\n",
       "      <th>Subcategory</th>\n",
       "      <th>Ordered Units</th>\n",
       "      <th>Ordered Revenue - Prior Period</th>\n",
       "    </tr>\n",
       "    <tr>\n",
       "      <th>Date</th>\n",
       "      <th></th>\n",
       "      <th></th>\n",
       "      <th></th>\n",
       "      <th></th>\n",
       "      <th></th>\n",
       "      <th></th>\n",
       "      <th></th>\n",
       "    </tr>\n",
       "  </thead>\n",
       "  <tbody>\n",
       "    <tr>\n",
       "      <th>2021-01-01</th>\n",
       "      <td>2021</td>\n",
       "      <td>1</td>\n",
       "      <td>[Category 24, Category 05, Category 17, Catego...</td>\n",
       "      <td>7.062916e+06</td>\n",
       "      <td>851</td>\n",
       "      <td>306683</td>\n",
       "      <td>33.857619</td>\n",
       "    </tr>\n",
       "    <tr>\n",
       "      <th>2021-02-01</th>\n",
       "      <td>2021</td>\n",
       "      <td>2</td>\n",
       "      <td>[Category 24, Category 05, Category 17, Catego...</td>\n",
       "      <td>7.067403e+06</td>\n",
       "      <td>841</td>\n",
       "      <td>260541</td>\n",
       "      <td>127.261805</td>\n",
       "    </tr>\n",
       "    <tr>\n",
       "      <th>2021-03-01</th>\n",
       "      <td>2021</td>\n",
       "      <td>3</td>\n",
       "      <td>[Category 24, Category 17, Category 05, Catego...</td>\n",
       "      <td>6.380075e+06</td>\n",
       "      <td>875</td>\n",
       "      <td>215011</td>\n",
       "      <td>97.828512</td>\n",
       "    </tr>\n",
       "    <tr>\n",
       "      <th>2021-04-01</th>\n",
       "      <td>2021</td>\n",
       "      <td>4</td>\n",
       "      <td>[Category 24, Category 05, Category 17, Catego...</td>\n",
       "      <td>7.772300e+06</td>\n",
       "      <td>894</td>\n",
       "      <td>224396</td>\n",
       "      <td>59.542926</td>\n",
       "    </tr>\n",
       "    <tr>\n",
       "      <th>2021-05-01</th>\n",
       "      <td>2021</td>\n",
       "      <td>5</td>\n",
       "      <td>[Category 24, Category 05, Category 17, Catego...</td>\n",
       "      <td>6.089733e+06</td>\n",
       "      <td>887</td>\n",
       "      <td>231296</td>\n",
       "      <td>141.441959</td>\n",
       "    </tr>\n",
       "  </tbody>\n",
       "</table>\n",
       "</div>"
      ],
      "text/plain": [
       "            Year  Month                                           Category  \\\n",
       "Date                                                                         \n",
       "2021-01-01  2021      1  [Category 24, Category 05, Category 17, Catego...   \n",
       "2021-02-01  2021      2  [Category 24, Category 05, Category 17, Catego...   \n",
       "2021-03-01  2021      3  [Category 24, Category 17, Category 05, Catego...   \n",
       "2021-04-01  2021      4  [Category 24, Category 05, Category 17, Catego...   \n",
       "2021-05-01  2021      5  [Category 24, Category 05, Category 17, Catego...   \n",
       "\n",
       "            Ordered Revenue  Subcategory  Ordered Units  \\\n",
       "Date                                                      \n",
       "2021-01-01     7.062916e+06          851         306683   \n",
       "2021-02-01     7.067403e+06          841         260541   \n",
       "2021-03-01     6.380075e+06          875         215011   \n",
       "2021-04-01     7.772300e+06          894         224396   \n",
       "2021-05-01     6.089733e+06          887         231296   \n",
       "\n",
       "            Ordered Revenue - Prior Period  \n",
       "Date                                        \n",
       "2021-01-01                       33.857619  \n",
       "2021-02-01                      127.261805  \n",
       "2021-03-01                       97.828512  \n",
       "2021-04-01                       59.542926  \n",
       "2021-05-01                      141.441959  "
      ]
     },
     "execution_count": 31,
     "metadata": {},
     "output_type": "execute_result"
    }
   ],
   "source": [
    "df_new.head()"
   ]
  },
  {
   "cell_type": "code",
   "execution_count": null,
   "id": "c55ce36b",
   "metadata": {},
   "outputs": [],
   "source": []
  },
  {
   "cell_type": "code",
   "execution_count": 32,
   "id": "d6a26eb1",
   "metadata": {},
   "outputs": [],
   "source": [
    "y = df_new['Ordered Revenue']#.resample('MS').mean()\n"
   ]
  },
  {
   "cell_type": "code",
   "execution_count": 33,
   "id": "7d68700f",
   "metadata": {},
   "outputs": [
    {
     "data": {
      "text/plain": [
       "Date\n",
       "2021-10-01    7.917370e+06\n",
       "2022-06-01    8.106498e+06\n",
       "Name: Ordered Revenue, dtype: float64"
      ]
     },
     "execution_count": 33,
     "metadata": {},
     "output_type": "execute_result"
    }
   ],
   "source": [
    "y.sample(2)"
   ]
  },
  {
   "cell_type": "code",
   "execution_count": 34,
   "id": "125c5be5",
   "metadata": {},
   "outputs": [
    {
     "data": {
      "image/png": "[encoded data removed]",
      "text/plain": [
       "<Figure size 1080x432 with 1 Axes>"
      ]
     },
     "metadata": {
      "needs_background": "light"
     },
     "output_type": "display_data"
    }
   ],
   "source": [
    "y.plot(figsize=(15, 6))\n",
    "plt.show()"
   ]
  },
  {
   "cell_type": "code",
   "execution_count": 35,
   "id": "3e0c9bf6",
   "metadata": {},
   "outputs": [
    {
     "data": {
      "image/png": "[encoded data removed]",
      "text/plain": [
       "<Figure size 1080x576 with 4 Axes>"
      ]
     },
     "metadata": {
      "needs_background": "light"
     },
     "output_type": "display_data"
    }
   ],
   "source": [
    "rcParams['figure.figsize'] = 15,8\n",
    "decomposition = sm.tsa.seasonal_decompose(y,freq=1)\n",
    "fig = decomposition.plot()\n",
    "plt.show()"
   ]
  },
  {
   "cell_type": "code",
   "execution_count": 36,
   "id": "53e48d32",
   "metadata": {},
   "outputs": [],
   "source": [
    "def adf_test(ts):\n",
    "    test_result = adfuller(ts)\n",
    "    print ('ADF Test:')\n",
    "    labels = ['ADF Statistic','p-value','No. of Lags Used','Number of Observations Used']\n",
    "\n",
    "    for value,label in zip(test_result,labels):\n",
    "        print (label+':'+str(value))\n",
    "    if test_result [1] <= 0.05:\n",
    "        print (\"strong evidence against the null hypothesis(Ho), reject the null hypothesis and data is stationary\")\n",
    "    else:\n",
    "        print (\"weak evidence against null hypothesis, thereby data is non-stationary \")"
   ]
  },
  {
   "cell_type": "code",
   "execution_count": 37,
   "id": "4b92653a",
   "metadata": {
    "scrolled": true
   },
   "outputs": [
    {
     "name": "stdout",
     "output_type": "stream",
     "text": [
      "ADF Test:\n",
      "ADF Statistic:-2.4302004937317387\n",
      "p-value:0.13339331225123296\n",
      "No. of Lags Used:7\n",
      "Number of Observations Used:10\n",
      "weak evidence against null hypothesis, thereby data is non-stationary \n"
     ]
    }
   ],
   "source": [
    "adf_test(y)"
   ]
  },
  {
   "cell_type": "markdown",
   "id": "5a2edf36",
   "metadata": {},
   "source": [
    "### Differencing"
   ]
  },
  {
   "cell_type": "code",
   "execution_count": 38,
   "id": "d4bfd881",
   "metadata": {},
   "outputs": [],
   "source": [
    "df_new['Ordered Revenue First Diff'] =df_new['Ordered Revenue']-df_new['Ordered Revenue'].shift(1)\n"
   ]
  },
  {
   "cell_type": "code",
   "execution_count": 39,
   "id": "7937b7e2",
   "metadata": {},
   "outputs": [
    {
     "name": "stdout",
     "output_type": "stream",
     "text": [
      "ADF Test:\n",
      "ADF Statistic:-5.768996560937113\n",
      "p-value:5.447731881364701e-07\n",
      "No. of Lags Used:0\n",
      "Number of Observations Used:16\n",
      "strong evidence against the null hypothesis(Ho), reject the null hypothesis and data is stationary\n"
     ]
    }
   ],
   "source": [
    "adf_test(df_new['Ordered Revenue First Diff'].dropna())"
   ]
  },
  {
   "cell_type": "code",
   "execution_count": 40,
   "id": "e8116567",
   "metadata": {},
   "outputs": [
    {
     "data": {
      "image/png": "[encoded data removed]",
      "text/plain": [
       "<Figure size 1080x432 with 1 Axes>"
      ]
     },
     "metadata": {
      "needs_background": "light"
     },
     "output_type": "display_data"
    }
   ],
   "source": [
    "df_new['Ordered Revenue First Diff'].plot(figsize=(15, 6))\n",
    "plt.show()"
   ]
  },
  {
   "cell_type": "code",
   "execution_count": 41,
   "id": "a5058327",
   "metadata": {
    "scrolled": false
   },
   "outputs": [
    {
     "data": {
      "image/png": "[encoded data removed]",
      "text/plain": [
       "<Figure size 1080x576 with 1 Axes>"
      ]
     },
     "metadata": {
      "needs_background": "light"
     },
     "output_type": "display_data"
    },
    {
     "data": {
      "image/png": "[encoded data removed]",
      "text/plain": [
       "<Figure size 1080x576 with 1 Axes>"
      ]
     },
     "metadata": {
      "needs_background": "light"
     },
     "output_type": "display_data"
    }
   ],
   "source": [
    "fig_first = plot_acf(df_new['Ordered Revenue First Diff'].dropna())\n",
    "\n",
    "first_plot=plot_pacf(df_new['Ordered Revenue First Diff'].dropna(), lags=7)\n",
    "\n",
    "#Can only compute partial correlations for lags up to 50% of the sample size. The requested nlags 13 must be < 8."
   ]
  },
  {
   "cell_type": "raw",
   "id": "c3e34fc3",
   "metadata": {},
   "source": [
    "Autocorrelation and Partial Autocorrelation:\n",
    "\n",
    "Identification of an AR model is often best done with the PACF.\n",
    "\n",
    "For an AR model, the theoretical PACF “shuts off” past the order of the model. The phrase “shuts off” means that in theory \n",
    "the partial autocorrelations are equal to 0 beyond that point. \n",
    "\n",
    "For an MA model, the theoretical PACF does not shut off, but instead tapers toward 0 in some manner. A clearer pattern for an MA model is in the ACF. The ACF will have non-zero autocorrelations only at lags involved in the model.\n",
    "p,d,q p AR model lags d differencing q MA lags"
   ]
  },
  {
   "cell_type": "code",
   "execution_count": 43,
   "id": "098c173f",
   "metadata": {},
   "outputs": [],
   "source": [
    "# For non-seasonal data\n",
    "#p=1, d=1, q=0 \n"
   ]
  },
  {
   "cell_type": "code",
   "execution_count": 44,
   "id": "b69b5f79",
   "metadata": {},
   "outputs": [
    {
     "data": {
      "text/plain": [
       "(18, 8)"
      ]
     },
     "execution_count": 44,
     "metadata": {},
     "output_type": "execute_result"
    }
   ],
   "source": [
    "df_new.shape"
   ]
  },
  {
   "cell_type": "markdown",
   "id": "ae74981d",
   "metadata": {},
   "source": [
    "## Train / Test Split"
   ]
  },
  {
   "cell_type": "code",
   "execution_count": 45,
   "id": "15f2e391",
   "metadata": {},
   "outputs": [],
   "source": [
    "train_data = df_new.iloc[0:14]\n",
    "test_data = df_new.iloc[14:]"
   ]
  },
  {
   "cell_type": "code",
   "execution_count": 46,
   "id": "aabc682e",
   "metadata": {},
   "outputs": [
    {
     "data": {
      "text/html": [
       "<div>\n",
       "<style scoped>\n",
       "    .dataframe tbody tr th:only-of-type {\n",
       "        vertical-align: middle;\n",
       "    }\n",
       "\n",
       "    .dataframe tbody tr th {\n",
       "        vertical-align: top;\n",
       "    }\n",
       "\n",
       "    .dataframe thead th {\n",
       "        text-align: right;\n",
       "    }\n",
       "</style>\n",
       "<table border=\"1\" class=\"dataframe\">\n",
       "  <thead>\n",
       "    <tr style=\"text-align: right;\">\n",
       "      <th></th>\n",
       "      <th>Year</th>\n",
       "      <th>Month</th>\n",
       "      <th>Category</th>\n",
       "      <th>Ordered Revenue</th>\n",
       "      <th>Subcategory</th>\n",
       "      <th>Ordered Units</th>\n",
       "      <th>Ordered Revenue - Prior Period</th>\n",
       "      <th>Ordered Revenue First Diff</th>\n",
       "    </tr>\n",
       "    <tr>\n",
       "      <th>Date</th>\n",
       "      <th></th>\n",
       "      <th></th>\n",
       "      <th></th>\n",
       "      <th></th>\n",
       "      <th></th>\n",
       "      <th></th>\n",
       "      <th></th>\n",
       "      <th></th>\n",
       "    </tr>\n",
       "  </thead>\n",
       "  <tbody>\n",
       "    <tr>\n",
       "      <th>2022-01-01</th>\n",
       "      <td>2022</td>\n",
       "      <td>1</td>\n",
       "      <td>[Category 24, Category 05, Category 13, Catego...</td>\n",
       "      <td>8.487560e+06</td>\n",
       "      <td>897</td>\n",
       "      <td>360801</td>\n",
       "      <td>2.104585e+02</td>\n",
       "      <td>-8.508925e+05</td>\n",
       "    </tr>\n",
       "    <tr>\n",
       "      <th>2022-02-01</th>\n",
       "      <td>2022</td>\n",
       "      <td>2</td>\n",
       "      <td>[Category 24, Category 05, Category 17, Catego...</td>\n",
       "      <td>7.067253e+06</td>\n",
       "      <td>885</td>\n",
       "      <td>252815</td>\n",
       "      <td>-6.527980e+16</td>\n",
       "      <td>-1.420307e+06</td>\n",
       "    </tr>\n",
       "  </tbody>\n",
       "</table>\n",
       "</div>"
      ],
      "text/plain": [
       "            Year  Month                                           Category  \\\n",
       "Date                                                                         \n",
       "2022-01-01  2022      1  [Category 24, Category 05, Category 13, Catego...   \n",
       "2022-02-01  2022      2  [Category 24, Category 05, Category 17, Catego...   \n",
       "\n",
       "            Ordered Revenue  Subcategory  Ordered Units  \\\n",
       "Date                                                      \n",
       "2022-01-01     8.487560e+06          897         360801   \n",
       "2022-02-01     7.067253e+06          885         252815   \n",
       "\n",
       "            Ordered Revenue - Prior Period  Ordered Revenue First Diff  \n",
       "Date                                                                    \n",
       "2022-01-01                    2.104585e+02               -8.508925e+05  \n",
       "2022-02-01                   -6.527980e+16               -1.420307e+06  "
      ]
     },
     "execution_count": 46,
     "metadata": {},
     "output_type": "execute_result"
    }
   ],
   "source": [
    "train_data.tail(2)"
   ]
  },
  {
   "cell_type": "code",
   "execution_count": 47,
   "id": "08103631",
   "metadata": {},
   "outputs": [
    {
     "name": "stderr",
     "output_type": "stream",
     "text": [
      "C:\\Users\\Mrudhu\\anaconda3\\lib\\site-packages\\statsmodels\\tsa\\base\\tsa_model.py:524: ValueWarning: No frequency information was provided, so inferred frequency MS will be used.\n",
      "  warnings.warn('No frequency information was'\n",
      "C:\\Users\\Mrudhu\\anaconda3\\lib\\site-packages\\statsmodels\\tsa\\base\\tsa_model.py:524: ValueWarning: No frequency information was provided, so inferred frequency MS will be used.\n",
      "  warnings.warn('No frequency information was'\n"
     ]
    }
   ],
   "source": [
    "model=ARIMA(train_data['Ordered Revenue'],order=(1,1,0))\n",
    "model_fit=model.fit()"
   ]
  },
  {
   "cell_type": "code",
   "execution_count": 48,
   "id": "79f4c9b0",
   "metadata": {},
   "outputs": [
    {
     "name": "stdout",
     "output_type": "stream",
     "text": [
      "===========================================================================================\n",
      "                              coef    std err          z      P>|z|      [0.025      0.975]\n",
      "-------------------------------------------------------------------------------------------\n",
      "const                     333.5639   6.07e+05      0.001      1.000   -1.19e+06    1.19e+06\n",
      "ar.L1.D.Ordered Revenue    -0.3773      0.244     -1.545      0.122      -0.856       0.101\n",
      "===========================================================================================\n"
     ]
    }
   ],
   "source": [
    "print(model_fit.summary().tables[1])"
   ]
  },
  {
   "cell_type": "code",
   "execution_count": 49,
   "id": "2723889e",
   "metadata": {},
   "outputs": [
    {
     "data": {
      "text/plain": [
       "<AxesSubplot:xlabel='Date'>"
      ]
     },
     "execution_count": 49,
     "metadata": {},
     "output_type": "execute_result"
    },
    {
     "data": {
      "image/png": "[encoded data removed]",
      "text/plain": [
       "<Figure size 864x576 with 1 Axes>"
      ]
     },
     "metadata": {
      "needs_background": "light"
     },
     "output_type": "display_data"
    }
   ],
   "source": [
    "start=len(train_data)\n",
    "end=len(train_data)+len(test_data)-1\n",
    "df_new['forecast']=model_fit.predict(start=start,end=end,dynamic=True)\n",
    "df_new[['Ordered Revenue','forecast']].plot(figsize=(12,8))"
   ]
  },
  {
   "cell_type": "code",
   "execution_count": 50,
   "id": "817fa379",
   "metadata": {},
   "outputs": [
    {
     "data": {
      "text/plain": [
       " 536319.345893    1\n",
       "-201885.562110    1\n",
       " 76627.705003     1\n",
       "-28451.032780     1\n",
       "Name: forecast, dtype: int64"
      ]
     },
     "execution_count": 50,
     "metadata": {},
     "output_type": "execute_result"
    }
   ],
   "source": [
    "df_new['forecast'].value_counts()"
   ]
  },
  {
   "cell_type": "code",
   "execution_count": 51,
   "id": "f378187e",
   "metadata": {},
   "outputs": [],
   "source": [
    "#SARIMA Trail"
   ]
  },
  {
   "cell_type": "markdown",
   "id": "0504c0e8",
   "metadata": {
    "scrolled": true
   },
   "source": [
    "model_sar=sm.tsa.statespace.SARIMAX(train_data['Ordered Revenue'],order=(1, 1, 0),seasonal_order=(1,0,0,12))\n",
    "results=model_sar.fit()"
   ]
  },
  {
   "cell_type": "markdown",
   "id": "951b98ba",
   "metadata": {},
   "source": [
    "print(results.summary().tables[1])"
   ]
  },
  {
   "cell_type": "markdown",
   "id": "99368cf5",
   "metadata": {},
   "source": [
    "results.plot_diagnostics(figsize=(16, 8))\n",
    "plt.show()"
   ]
  },
  {
   "cell_type": "markdown",
   "id": "59b918f7",
   "metadata": {
    "scrolled": false
   },
   "source": [
    "df_new['forecast2']=results.predict(start=start-4,end=end,dynamic=True)\n",
    "df_new[['Ordered Revenue','forecast2']].plot(figsize=(12,8))\n",
    "from sklearn.metrics import mean_squared_error\n",
    "from math import sqrt\n",
    "test_data['Ordered Revenue'].mean()\n",
    "rmse=sqrt(mean_squared_error(df_new['forecast2'][14:],test_data['Ordered Revenue']))\n",
    "print(rmse)"
   ]
  },
  {
   "cell_type": "code",
   "execution_count": null,
   "id": "7a756a5e",
   "metadata": {},
   "outputs": [],
   "source": []
  },
  {
   "cell_type": "code",
   "execution_count": null,
   "id": "ecad3760",
   "metadata": {},
   "outputs": [],
   "source": []
  },
  {
   "cell_type": "code",
   "execution_count": null,
   "id": "a29a089e",
   "metadata": {},
   "outputs": [],
   "source": []
  },
  {
   "cell_type": "code",
   "execution_count": 52,
   "id": "6349140f",
   "metadata": {},
   "outputs": [
    {
     "data": {
      "image/png": "[encoded data removed]",
      "text/plain": [
       "<Figure size 1080x360 with 1 Axes>"
      ]
     },
     "metadata": {
      "needs_background": "light"
     },
     "output_type": "display_data"
    }
   ],
   "source": [
    "train_data = df_new.iloc[0:14]\n",
    "test_data = df_new.iloc[14:]\n",
    "\n",
    "fig, ax = plt.subplots(figsize=(15, 5))\n",
    "train_data['Ordered Revenue'].plot(ax=ax, label='Training Set', title='Data Train/Test Split')\n",
    "test_data['Ordered Revenue'].plot(ax=ax, label='Test Set')\n",
    "ax.axvline('01-01-2016', color='black', ls='--')\n",
    "ax.legend(['Training Set', 'Test Set'])\n",
    "plt.show()"
   ]
  },
  {
   "cell_type": "code",
   "execution_count": 53,
   "id": "02a0b074",
   "metadata": {},
   "outputs": [
    {
     "data": {
      "text/html": [
       "<div>\n",
       "<style scoped>\n",
       "    .dataframe tbody tr th:only-of-type {\n",
       "        vertical-align: middle;\n",
       "    }\n",
       "\n",
       "    .dataframe tbody tr th {\n",
       "        vertical-align: top;\n",
       "    }\n",
       "\n",
       "    .dataframe thead th {\n",
       "        text-align: right;\n",
       "    }\n",
       "</style>\n",
       "<table border=\"1\" class=\"dataframe\">\n",
       "  <thead>\n",
       "    <tr style=\"text-align: right;\">\n",
       "      <th></th>\n",
       "      <th>Year</th>\n",
       "      <th>Month</th>\n",
       "      <th>Category</th>\n",
       "      <th>Ordered Revenue</th>\n",
       "      <th>Subcategory</th>\n",
       "      <th>Ordered Units</th>\n",
       "      <th>Ordered Revenue - Prior Period</th>\n",
       "      <th>Ordered Revenue First Diff</th>\n",
       "      <th>forecast</th>\n",
       "    </tr>\n",
       "    <tr>\n",
       "      <th>Date</th>\n",
       "      <th></th>\n",
       "      <th></th>\n",
       "      <th></th>\n",
       "      <th></th>\n",
       "      <th></th>\n",
       "      <th></th>\n",
       "      <th></th>\n",
       "      <th></th>\n",
       "      <th></th>\n",
       "    </tr>\n",
       "  </thead>\n",
       "  <tbody>\n",
       "    <tr>\n",
       "      <th>2021-05-01</th>\n",
       "      <td>2021</td>\n",
       "      <td>5</td>\n",
       "      <td>[Category 24, Category 05, Category 17, Catego...</td>\n",
       "      <td>6.089733e+06</td>\n",
       "      <td>887</td>\n",
       "      <td>231296</td>\n",
       "      <td>141.441959</td>\n",
       "      <td>-1.682567e+06</td>\n",
       "      <td>NaN</td>\n",
       "    </tr>\n",
       "  </tbody>\n",
       "</table>\n",
       "</div>"
      ],
      "text/plain": [
       "            Year  Month                                           Category  \\\n",
       "Date                                                                         \n",
       "2021-05-01  2021      5  [Category 24, Category 05, Category 17, Catego...   \n",
       "\n",
       "            Ordered Revenue  Subcategory  Ordered Units  \\\n",
       "Date                                                      \n",
       "2021-05-01     6.089733e+06          887         231296   \n",
       "\n",
       "            Ordered Revenue - Prior Period  Ordered Revenue First Diff  \\\n",
       "Date                                                                     \n",
       "2021-05-01                      141.441959               -1.682567e+06   \n",
       "\n",
       "            forecast  \n",
       "Date                  \n",
       "2021-05-01       NaN  "
      ]
     },
     "execution_count": 53,
     "metadata": {},
     "output_type": "execute_result"
    }
   ],
   "source": [
    "df_new.sample(1)"
   ]
  },
  {
   "cell_type": "code",
   "execution_count": 54,
   "id": "90262808",
   "metadata": {},
   "outputs": [],
   "source": [
    "train_data\n",
    "test_data\n",
    "\n",
    "X_train = train_data[[\"Year\",\"Month\"]]\n",
    "y_train = train_data['Ordered Revenue']\n",
    "\n",
    "X_test = test_data[[\"Year\",\"Month\"]]\n",
    "y_test = test_data['Ordered Revenue']"
   ]
  },
  {
   "cell_type": "code",
   "execution_count": 55,
   "id": "bad82faa",
   "metadata": {},
   "outputs": [
    {
     "name": "stdout",
     "output_type": "stream",
     "text": [
      "[0]\tvalidation_0-mae:8104588.50000\tvalidation_1-mae:7757836.00000\n",
      "[50]\tvalidation_0-mae:5071174.50000\tvalidation_1-mae:4724421.00000\n",
      "[100]\tvalidation_0-mae:3283772.25000\tvalidation_1-mae:3076695.00000\n",
      "[150]\tvalidation_0-mae:2187698.50000\tvalidation_1-mae:2096825.62500\n",
      "[200]\tvalidation_0-mae:1525186.62500\tvalidation_1-mae:1537753.87500\n",
      "[250]\tvalidation_0-mae:1138883.12500\tvalidation_1-mae:1302157.87500\n",
      "[300]\tvalidation_0-mae:862589.43750\tvalidation_1-mae:1101805.62500\n",
      "[350]\tvalidation_0-mae:677321.50000\tvalidation_1-mae:944089.37500\n",
      "[400]\tvalidation_0-mae:580886.81250\tvalidation_1-mae:821123.87500\n",
      "[450]\tvalidation_0-mae:508085.59375\tvalidation_1-mae:723984.37500\n",
      "[500]\tvalidation_0-mae:449193.93750\tvalidation_1-mae:656927.50000\n",
      "[550]\tvalidation_0-mae:391882.46875\tvalidation_1-mae:652214.50000\n",
      "[560]\tvalidation_0-mae:381559.43750\tvalidation_1-mae:652348.00000\n"
     ]
    },
    {
     "data": {
      "text/plain": [
       "XGBRegressor(base_score=0.5, booster='gbtree', colsample_bylevel=1,\n",
       "             colsample_bynode=1, colsample_bytree=1, enable_categorical=False,\n",
       "             gamma=0, gpu_id=-1, importance_type=None,\n",
       "             interaction_constraints='', learning_rate=0.01, max_delta_step=0,\n",
       "             max_depth=3, min_child_weight=1, missing=nan,\n",
       "             monotone_constraints='()', n_estimators=1000, n_jobs=8,\n",
       "             num_parallel_tree=1, predictor='auto', random_state=0, reg_alpha=0,\n",
       "             reg_lambda=1, scale_pos_weight=1, subsample=1, tree_method='exact',\n",
       "             validate_parameters=1, verbosity=None)"
      ]
     },
     "execution_count": 55,
     "metadata": {},
     "output_type": "execute_result"
    }
   ],
   "source": [
    "reg = xgb.XGBRegressor(base_score=0.5, booster='gbtree',    \n",
    "                       n_estimators=1000,\n",
    "                       max_depth=3,\n",
    "                       learning_rate=0.01)\n",
    "\n",
    "reg.fit(X_train, y_train,\n",
    "        eval_set=[(X_train, y_train), (X_test, y_test)],\n",
    "        early_stopping_rounds=50,\n",
    "        verbose=50,eval_metric='mae')"
   ]
  },
  {
   "cell_type": "markdown",
   "id": "4124b902",
   "metadata": {},
   "source": [
    "fi = pd.DataFrame(data=reg.feature_importances_,\n",
    "             index=reg.feature_names_in_,\n",
    "             columns=['importance'])\n",
    "fi.sort_values('importance').plot(kind='barh', title='Feature Importance')\n",
    "plt.show()"
   ]
  },
  {
   "cell_type": "code",
   "execution_count": 56,
   "id": "544dc9c9",
   "metadata": {},
   "outputs": [],
   "source": [
    "test_data['prediction'] = reg.predict(X_test)\n",
    "df_new = df_new.merge(test_data[['prediction']], how='left', left_index=True, right_index=True)\n"
   ]
  },
  {
   "cell_type": "code",
   "execution_count": 57,
   "id": "98e3dfef",
   "metadata": {},
   "outputs": [
    {
     "data": {
      "text/plain": [
       "Date\n",
       "2021-01-01          NaN\n",
       "2021-02-01          NaN\n",
       "2021-03-01          NaN\n",
       "2021-04-01          NaN\n",
       "2021-05-01          NaN\n",
       "2021-06-01          NaN\n",
       "2021-07-01          NaN\n",
       "2021-08-01          NaN\n",
       "2021-09-01          NaN\n",
       "2021-10-01          NaN\n",
       "2021-11-01          NaN\n",
       "2021-12-01          NaN\n",
       "2022-01-01          NaN\n",
       "2022-02-01          NaN\n",
       "2022-03-01    7262961.5\n",
       "2022-04-01    7439481.0\n",
       "2022-05-01    6836082.0\n",
       "2022-06-01    7195950.0\n",
       "Name: prediction, dtype: float32"
      ]
     },
     "execution_count": 57,
     "metadata": {},
     "output_type": "execute_result"
    }
   ],
   "source": [
    "df_new.prediction\n"
   ]
  },
  {
   "cell_type": "code",
   "execution_count": 58,
   "id": "e8c54e5f",
   "metadata": {},
   "outputs": [
    {
     "data": {
      "image/png": "[encoded data removed]",
      "text/plain": [
       "<Figure size 1080x360 with 1 Axes>"
      ]
     },
     "metadata": {
      "needs_background": "light"
     },
     "output_type": "display_data"
    }
   ],
   "source": [
    "ax = df_new.loc[(df_new.index > '2020-12-01') & (df_new.index < '2022-07-01')]['Ordered Revenue'] \\\n",
    "    .plot(figsize=(15, 5), title='Week Of Data')\n",
    "df_new.loc[(df_new.index > '2020-12-01') & (df_new.index < '2022-07-01')]['prediction'] \\\n",
    "    .plot()\n",
    "plt.legend(['Truth Data','Prediction'])\n",
    "plt.show()"
   ]
  },
  {
   "cell_type": "code",
   "execution_count": 59,
   "id": "47c77f29",
   "metadata": {},
   "outputs": [
    {
     "name": "stdout",
     "output_type": "stream",
     "text": [
      "RMSE Score on Test set: 681291.79\n"
     ]
    }
   ],
   "source": [
    "score = np.sqrt(mean_squared_error(test_data['Ordered Revenue'], test_data['prediction']))\n",
    "print(f'RMSE Score on Test set: {score:0.2f}')"
   ]
  },
  {
   "cell_type": "code",
   "execution_count": 60,
   "id": "6ee75ad8",
   "metadata": {},
   "outputs": [
    {
     "data": {
      "text/plain": [
       "date\n",
       "2022-06-01    910548.393171\n",
       "2022-03-01    680452.504708\n",
       "2022-04-01    668685.311029\n",
       "2022-05-01    342607.620775\n",
       "Name: error, dtype: float64"
      ]
     },
     "execution_count": 60,
     "metadata": {},
     "output_type": "execute_result"
    }
   ],
   "source": [
    "test_data['error'] = np.abs(test_data['Ordered Revenue'] - test_data['prediction'])\n",
    "test_data['date'] = test_data.index.date\n",
    "test_data.groupby(['date'])['error'].mean().sort_values(ascending=False).head(10)"
   ]
  },
  {
   "cell_type": "code",
   "execution_count": 63,
   "id": "c14e2ad9",
   "metadata": {},
   "outputs": [],
   "source": [
    "from pandas.tseries.offsets import DateOffset\n",
    "future_dates=[df_new.index[-1]+ DateOffset(months=x)for x in range(0,13)]\n"
   ]
  },
  {
   "cell_type": "code",
   "execution_count": 64,
   "id": "ae5b20f7",
   "metadata": {},
   "outputs": [],
   "source": [
    "xgb_df=pd.DataFrame(index=future_dates[1:],columns=df_new.columns)"
   ]
  },
  {
   "cell_type": "code",
   "execution_count": 65,
   "id": "05235afe",
   "metadata": {},
   "outputs": [],
   "source": [
    "df_forc=pd.concat([df_new,xgb_df])"
   ]
  },
  {
   "cell_type": "code",
   "execution_count": 66,
   "id": "d7df5f2f",
   "metadata": {},
   "outputs": [
    {
     "data": {
      "text/html": [
       "<div>\n",
       "<style scoped>\n",
       "    .dataframe tbody tr th:only-of-type {\n",
       "        vertical-align: middle;\n",
       "    }\n",
       "\n",
       "    .dataframe tbody tr th {\n",
       "        vertical-align: top;\n",
       "    }\n",
       "\n",
       "    .dataframe thead th {\n",
       "        text-align: right;\n",
       "    }\n",
       "</style>\n",
       "<table border=\"1\" class=\"dataframe\">\n",
       "  <thead>\n",
       "    <tr style=\"text-align: right;\">\n",
       "      <th></th>\n",
       "      <th>Year</th>\n",
       "      <th>Month</th>\n",
       "      <th>Category</th>\n",
       "      <th>Ordered Revenue</th>\n",
       "      <th>Subcategory</th>\n",
       "      <th>Ordered Units</th>\n",
       "      <th>Ordered Revenue - Prior Period</th>\n",
       "      <th>Ordered Revenue First Diff</th>\n",
       "      <th>forecast</th>\n",
       "      <th>prediction</th>\n",
       "    </tr>\n",
       "  </thead>\n",
       "  <tbody>\n",
       "    <tr>\n",
       "      <th>2023-05-01</th>\n",
       "      <td>NaN</td>\n",
       "      <td>NaN</td>\n",
       "      <td>NaN</td>\n",
       "      <td>NaN</td>\n",
       "      <td>NaN</td>\n",
       "      <td>NaN</td>\n",
       "      <td>NaN</td>\n",
       "      <td>NaN</td>\n",
       "      <td>NaN</td>\n",
       "      <td>NaN</td>\n",
       "    </tr>\n",
       "    <tr>\n",
       "      <th>2023-06-01</th>\n",
       "      <td>NaN</td>\n",
       "      <td>NaN</td>\n",
       "      <td>NaN</td>\n",
       "      <td>NaN</td>\n",
       "      <td>NaN</td>\n",
       "      <td>NaN</td>\n",
       "      <td>NaN</td>\n",
       "      <td>NaN</td>\n",
       "      <td>NaN</td>\n",
       "      <td>NaN</td>\n",
       "    </tr>\n",
       "  </tbody>\n",
       "</table>\n",
       "</div>"
      ],
      "text/plain": [
       "           Year Month Category  Ordered Revenue Subcategory Ordered Units  \\\n",
       "2023-05-01  NaN   NaN      NaN              NaN         NaN           NaN   \n",
       "2023-06-01  NaN   NaN      NaN              NaN         NaN           NaN   \n",
       "\n",
       "            Ordered Revenue - Prior Period  Ordered Revenue First Diff  \\\n",
       "2023-05-01                             NaN                         NaN   \n",
       "2023-06-01                             NaN                         NaN   \n",
       "\n",
       "            forecast  prediction  \n",
       "2023-05-01       NaN         NaN  \n",
       "2023-06-01       NaN         NaN  "
      ]
     },
     "execution_count": 66,
     "metadata": {},
     "output_type": "execute_result"
    }
   ],
   "source": [
    "df_forc.tail(2)"
   ]
  },
  {
   "cell_type": "code",
   "execution_count": 67,
   "id": "08a14e97",
   "metadata": {},
   "outputs": [],
   "source": [
    "df_forc['Year']=df_forc.index.year\n",
    "df_forc['Month']=df_forc.index.month\n"
   ]
  },
  {
   "cell_type": "code",
   "execution_count": 68,
   "id": "a76e6f4f",
   "metadata": {},
   "outputs": [],
   "source": [
    "df_forc['prediction_forc'] = reg.predict(df_forc[['Year','Month']])\n",
    "df_new = df_new.merge(test_data[['prediction']], how='left', left_index=True, right_index=True)"
   ]
  },
  {
   "cell_type": "code",
   "execution_count": 69,
   "id": "7c34aab6",
   "metadata": {},
   "outputs": [
    {
     "data": {
      "image/png": "[encoded data removed]",
      "text/plain": [
       "<Figure size 1080x360 with 1 Axes>"
      ]
     },
     "metadata": {
      "needs_background": "light"
     },
     "output_type": "display_data"
    }
   ],
   "source": [
    "ax = df_forc[['Ordered Revenue']].plot(figsize=(15, 5))\n",
    "df_forc['prediction_forc'].plot(ax=ax)\n",
    "plt.legend(['Truth Data', 'Predictions'])\n",
    "ax.set_title('Raw Dat and Prediction')\n",
    "plt.show()"
   ]
  },
  {
   "cell_type": "code",
   "execution_count": null,
   "id": "fc283734",
   "metadata": {},
   "outputs": [],
   "source": []
  }
 ],
 "metadata": {
  "kernelspec": {
   "display_name": "Python 3 (ipykernel)",
   "language": "python",
   "name": "python3"
  },
  "language_info": {
   "codemirror_mode": {
    "name": "ipython",
    "version": 3
   },
   "file_extension": ".py",
   "mimetype": "text/x-python",
   "name": "python",
   "nbconvert_exporter": "python",
   "pygments_lexer": "ipython3",
   "version": "3.9.7"
  }
 },
 "nbformat": 4,
 "nbformat_minor": 5
}
